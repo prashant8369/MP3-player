{
 "cells": [
  {
   "cell_type": "code",
   "execution_count": 1,
   "id": "90b6fcbe",
   "metadata": {},
   "outputs": [
    {
     "name": "stdout",
     "output_type": "stream",
     "text": [
      "pygame 2.3.0 (SDL 2.24.2, Python 3.9.12)\n",
      "Hello from the pygame community. https://www.pygame.org/contribute.html\n"
     ]
    }
   ],
   "source": [
    "import tkinter as tk\n",
    "from tkinter import filedialog\n",
    "import pygame\n",
    "import os\n",
    "\n",
    "class MP3Player:\n",
    "    def __init__(self, master):\n",
    "        self.master = master\n",
    "        self.master.title(\"Simple MP3 Player\")\n",
    "        self.master.geometry(\"300x150\")\n",
    "\n",
    "        pygame.init()\n",
    "        pygame.mixer.init()\n",
    "\n",
    "        self.playlist = []\n",
    "        self.current_track = 0\n",
    "\n",
    "        self.create_widgets()\n",
    "\n",
    "    def create_widgets(self):\n",
    "        # Create buttons\n",
    "        self.load_button = tk.Button(self.master, text=\"Load MP3\", command=self.load_mp3)\n",
    "        self.load_button.pack(pady=5)\n",
    "\n",
    "        self.play_button = tk.Button(self.master, text=\"Play\", command=self.play_music)\n",
    "        self.play_button.pack(pady=5)\n",
    "\n",
    "        self.pause_button = tk.Button(self.master, text=\"Pause\", command=self.pause_music)\n",
    "        self.pause_button.pack(pady=5)\n",
    "\n",
    "        self.stop_button = tk.Button(self.master, text=\"Stop\", command=self.stop_music)\n",
    "        self.stop_button.pack(pady=5)\n",
    "\n",
    "        # Create label to display current track\n",
    "        self.track_label = tk.Label(self.master, text=\"No track selected\")\n",
    "        self.track_label.pack(pady=5)\n",
    "\n",
    "    def load_mp3(self):\n",
    "        files = filedialog.askopenfilenames(filetypes=[(\"MP3 Files\", \"*.mp3\")])\n",
    "        if files:\n",
    "            self.playlist.extend(files)\n",
    "            self.current_track = 0\n",
    "            self.update_track_label()\n",
    "\n",
    "    def play_music(self):\n",
    "        if self.playlist:\n",
    "            pygame.mixer.music.load(self.playlist[self.current_track])\n",
    "            pygame.mixer.music.play()\n",
    "\n",
    "    def pause_music(self):\n",
    "        if pygame.mixer.music.get_busy():\n",
    "            pygame.mixer.music.pause()\n",
    "        else:\n",
    "            pygame.mixer.music.unpause()\n",
    "\n",
    "    def stop_music(self):\n",
    "        pygame.mixer.music.stop()\n",
    "\n",
    "    def update_track_label(self):\n",
    "        if self.playlist:\n",
    "            track_name = os.path.basename(self.playlist[self.current_track])\n",
    "            self.track_label.config(text=f\"Now playing: {track_name}\")\n",
    "        else:\n",
    "            self.track_label.config(text=\"No track selected\")\n",
    "\n",
    "if __name__ == \"__main__\":\n",
    "    root = tk.Tk()\n",
    "    mp3_player = MP3Player(root)\n",
    "    root.mainloop()"
   ]
  },
  {
   "cell_type": "code",
   "execution_count": null,
   "id": "0c0720fd",
   "metadata": {},
   "outputs": [],
   "source": []
  }
 ],
 "metadata": {
  "kernelspec": {
   "display_name": "Python 3 (ipykernel)",
   "language": "python",
   "name": "python3"
  },
  "language_info": {
   "codemirror_mode": {
    "name": "ipython",
    "version": 3
   },
   "file_extension": ".py",
   "mimetype": "text/x-python",
   "name": "python",
   "nbconvert_exporter": "python",
   "pygments_lexer": "ipython3",
   "version": "3.9.12"
  }
 },
 "nbformat": 4,
 "nbformat_minor": 5
}
